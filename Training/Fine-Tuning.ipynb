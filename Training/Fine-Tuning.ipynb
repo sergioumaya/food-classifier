{
 "cells": [
  {
   "cell_type": "code",
   "execution_count": 1,
   "metadata": {},
   "outputs": [],
   "source": [
    "import tensorflow as tf\n",
    "from tensorflow.keras import models\n",
    "import tensorflow_datasets as tfds\n",
    "from tensorflow.keras.layers import Input\n",
    "import os"
   ]
  },
  {
   "cell_type": "code",
   "execution_count": 2,
   "metadata": {},
   "outputs": [],
   "source": [
    "import imgaug.augmenters as iaa\n",
    "from imgaug.augmentables.bbs import BoundingBox, BoundingBoxesOnImage\n",
    "import numpy as np\n",
    "\n",
    "from DataAugmentation import preprocessing,preprocessing_val,augmentations"
   ]
  },
  {
   "cell_type": "code",
   "execution_count": 3,
   "metadata": {},
   "outputs": [],
   "source": [
    "#physical_devices = tf.config.experimental.list_physical_devices('GPU')\n",
    "#tf.config.experimental.set_memory_growth(physical_devices[0], True)"
   ]
  },
  {
   "cell_type": "code",
   "execution_count": 4,
   "metadata": {},
   "outputs": [
    {
     "name": "stdout",
     "output_type": "stream",
     "text": [
      "INFO:tensorflow:Mixed precision compatibility check (mixed_float16): OK\n",
      "Your GPU will likely run quickly with dtype policy mixed_float16 as it has compute capability of at least 7.0. Your GPU: GeForce RTX 2070 SUPER, compute capability 7.5\n"
     ]
    }
   ],
   "source": [
    "from tensorflow.keras.mixed_precision import experimental as mixed_precision\n",
    "\n",
    "policy = mixed_precision.Policy('mixed_float16')\n",
    "mixed_precision.set_policy(policy)"
   ]
  },
  {
   "cell_type": "code",
   "execution_count": 5,
   "metadata": {},
   "outputs": [],
   "source": [
    "model_trainable = False #Decide si es entrenable toda la red o no\n",
    "model_training = False # Decide si re entrenar el BN o no\n",
    "model_epochs = 20\n",
    "base_learning_rate =0.001\n",
    "\n",
    "num_classes = 101\n",
    "final_activation = \"softmax\""
   ]
  },
  {
   "cell_type": "code",
   "execution_count": 6,
   "metadata": {},
   "outputs": [],
   "source": [
    "model_backbone = tf.keras.applications.EfficientNetB0(include_top=False, \n",
    "                                                      weights='imagenet',\n",
    "                                                      #input_shape=(224,224,3),\n",
    "                                                      pooling=\"avg\")\n",
    "\n",
    "model_backbone.trainable = model_trainable\n",
    "\n",
    "\n",
    "inputs = tf.keras.Input(shape=(224, 224, 3))\n",
    "x = model_backbone(inputs, training=model_training)\n",
    "x = tf.keras.layers.Dropout(0.2)(x) \n",
    "output = tf.keras.layers.Dense(num_classes,activation=final_activation)(x)\n",
    "model = tf.keras.Model(inputs, output)"
   ]
  },
  {
   "cell_type": "code",
   "execution_count": 7,
   "metadata": {},
   "outputs": [
    {
     "name": "stdout",
     "output_type": "stream",
     "text": [
      "Model: \"functional_1\"\n",
      "_________________________________________________________________\n",
      "Layer (type)                 Output Shape              Param #   \n",
      "=================================================================\n",
      "input_2 (InputLayer)         [(None, 224, 224, 3)]     0         \n",
      "_________________________________________________________________\n",
      "efficientnetb0 (Functional)  (None, 1280)              4049571   \n",
      "_________________________________________________________________\n",
      "dropout (Dropout)            (None, 1280)              0         \n",
      "_________________________________________________________________\n",
      "dense (Dense)                (None, 101)               129381    \n",
      "=================================================================\n",
      "Total params: 4,178,952\n",
      "Trainable params: 129,381\n",
      "Non-trainable params: 4,049,571\n",
      "_________________________________________________________________\n"
     ]
    }
   ],
   "source": [
    "model.summary()"
   ]
  },
  {
   "cell_type": "code",
   "execution_count": 8,
   "metadata": {},
   "outputs": [],
   "source": [
    "train,val = tfds.load('food101', split=['train', 'validation'],data_dir=\"/tf/FoodClassifier/Training\")\n",
    "\n",
    "\n",
    "#Para efficientnet de la versión de TF.KERAS la nroamlización se hace internamente\n",
    "train = train.map(preprocessing)\n",
    "train = train.map(augmentations,num_parallel_calls=8)\n",
    "train = train.batch(8)\n",
    "\n",
    "val = val.map(preprocessing)\n",
    "val = val.batch(16)"
   ]
  },
  {
   "cell_type": "code",
   "execution_count": 9,
   "metadata": {},
   "outputs": [],
   "source": [
    "model.compile(optimizer=tf.keras.optimizers.Nadam(lr=base_learning_rate),\n",
    "              loss=tf.keras.losses.SparseCategoricalCrossentropy(from_logits=False),\n",
    "              metrics=['accuracy'])"
   ]
  },
  {
   "cell_type": "code",
   "execution_count": 10,
   "metadata": {},
   "outputs": [
    {
     "name": "stdout",
     "output_type": "stream",
     "text": [
      "Epoch 1/20\n",
      "9465/9469 [============================>.] - ETA: 0s - loss: 1.9093 - accuracy: 0.5248\n",
      "Epoch 00001: val_accuracy improved from -inf to 0.66978, saving model to training_3/cp.ckpt\n",
      "9469/9469 [==============================] - 143s 15ms/step - loss: 1.9093 - accuracy: 0.5248 - val_loss: 1.2278 - val_accuracy: 0.6698\n",
      "Epoch 2/20\n",
      "9464/9469 [============================>.] - ETA: 0s - loss: 1.5455 - accuracy: 0.6025\n",
      "Epoch 00002: val_accuracy improved from 0.66978 to 0.68578, saving model to training_3/cp.ckpt\n",
      "9469/9469 [==============================] - 141s 15ms/step - loss: 1.5456 - accuracy: 0.6024 - val_loss: 1.1562 - val_accuracy: 0.6858\n",
      "Epoch 3/20\n",
      "9465/9469 [============================>.] - ETA: 0s - loss: 1.4735 - accuracy: 0.6209\n",
      "Epoch 00003: val_accuracy improved from 0.68578 to 0.68935, saving model to training_3/cp.ckpt\n",
      "9469/9469 [==============================] - 133s 14ms/step - loss: 1.4735 - accuracy: 0.6209 - val_loss: 1.1476 - val_accuracy: 0.6893\n",
      "Epoch 4/20\n",
      "9463/9469 [============================>.] - ETA: 0s - loss: 1.4362 - accuracy: 0.6303\n",
      "Epoch 00004: val_accuracy improved from 0.68935 to 0.69339, saving model to training_3/cp.ckpt\n",
      "9469/9469 [==============================] - 133s 14ms/step - loss: 1.4361 - accuracy: 0.6304 - val_loss: 1.1379 - val_accuracy: 0.6934\n",
      "Epoch 5/20\n",
      "9464/9469 [============================>.] - ETA: 0s - loss: 1.4172 - accuracy: 0.6335\n",
      "Epoch 00005: val_accuracy improved from 0.69339 to 0.69489, saving model to training_3/cp.ckpt\n",
      "\n",
      "Epoch 00005: ReduceLROnPlateau reducing learning rate to 0.00010000000474974513.\n",
      "9469/9469 [==============================] - 133s 14ms/step - loss: 1.4173 - accuracy: 0.6334 - val_loss: 1.1383 - val_accuracy: 0.6949\n",
      "Epoch 6/20\n",
      "9469/9469 [==============================] - ETA: 0s - loss: 1.2371 - accuracy: 0.6712\n",
      "Epoch 00006: val_accuracy improved from 0.69489 to 0.71545, saving model to training_3/cp.ckpt\n",
      "9469/9469 [==============================] - 134s 14ms/step - loss: 1.2371 - accuracy: 0.6712 - val_loss: 1.0576 - val_accuracy: 0.7154\n",
      "Epoch 7/20\n",
      "9468/9469 [============================>.] - ETA: 0s - loss: 1.2104 - accuracy: 0.6788\n",
      "Epoch 00007: val_accuracy improved from 0.71545 to 0.71731, saving model to training_3/cp.ckpt\n",
      "9469/9469 [==============================] - 133s 14ms/step - loss: 1.2104 - accuracy: 0.6788 - val_loss: 1.0482 - val_accuracy: 0.7173\n",
      "Epoch 8/20\n",
      "9466/9469 [============================>.] - ETA: 0s - loss: 1.2004 - accuracy: 0.6811\n",
      "Epoch 00008: val_accuracy improved from 0.71731 to 0.71739, saving model to training_3/cp.ckpt\n",
      "9469/9469 [==============================] - 131s 14ms/step - loss: 1.2003 - accuracy: 0.6812 - val_loss: 1.0454 - val_accuracy: 0.7174\n",
      "Epoch 9/20\n",
      "9467/9469 [============================>.] - ETA: 0s - loss: 1.1931 - accuracy: 0.6812\n",
      "Epoch 00009: val_accuracy improved from 0.71739 to 0.71818, saving model to training_3/cp.ckpt\n",
      "\n",
      "Epoch 00009: ReduceLROnPlateau reducing learning rate to 1.0000000474974514e-05.\n",
      "9469/9469 [==============================] - 131s 14ms/step - loss: 1.1931 - accuracy: 0.6811 - val_loss: 1.0421 - val_accuracy: 0.7182\n",
      "Epoch 10/20\n",
      "9469/9469 [==============================] - ETA: 0s - loss: 1.1630 - accuracy: 0.6879\n",
      "Epoch 00010: val_accuracy improved from 0.71818 to 0.72012, saving model to training_3/cp.ckpt\n",
      "9469/9469 [==============================] - 133s 14ms/step - loss: 1.1630 - accuracy: 0.6879 - val_loss: 1.0360 - val_accuracy: 0.7201\n",
      "Epoch 11/20\n",
      "9464/9469 [============================>.] - ETA: 0s - loss: 1.1682 - accuracy: 0.6888\n",
      "Epoch 00011: val_accuracy improved from 0.72012 to 0.72016, saving model to training_3/cp.ckpt\n",
      "9469/9469 [==============================] - 131s 14ms/step - loss: 1.1683 - accuracy: 0.6888 - val_loss: 1.0350 - val_accuracy: 0.7202\n",
      "Epoch 12/20\n",
      "9465/9469 [============================>.] - ETA: 0s - loss: 1.1684 - accuracy: 0.6882\n",
      "Epoch 00012: val_accuracy did not improve from 0.72016\n",
      "9469/9469 [==============================] - 132s 14ms/step - loss: 1.1685 - accuracy: 0.6882 - val_loss: 1.0348 - val_accuracy: 0.7201\n",
      "Epoch 13/20\n",
      "9466/9469 [============================>.] - ETA: 0s - loss: 1.1635 - accuracy: 0.6896\n",
      "Epoch 00013: val_accuracy improved from 0.72016 to 0.72063, saving model to training_3/cp.ckpt\n",
      "9469/9469 [==============================] - 132s 14ms/step - loss: 1.1635 - accuracy: 0.6896 - val_loss: 1.0338 - val_accuracy: 0.7206\n",
      "Epoch 14/20\n",
      "9467/9469 [============================>.] - ETA: 0s - loss: 1.1633 - accuracy: 0.6891\n",
      "Epoch 00014: val_accuracy improved from 0.72063 to 0.72083, saving model to training_3/cp.ckpt\n",
      "\n",
      "Epoch 00014: ReduceLROnPlateau reducing learning rate to 1.0000000656873453e-06.\n",
      "9469/9469 [==============================] - 133s 14ms/step - loss: 1.1634 - accuracy: 0.6891 - val_loss: 1.0334 - val_accuracy: 0.7208\n",
      "Epoch 15/20\n",
      "9465/9469 [============================>.] - ETA: 0s - loss: 1.1583 - accuracy: 0.6902\n",
      "Epoch 00015: val_accuracy did not improve from 0.72083\n",
      "9469/9469 [==============================] - 131s 14ms/step - loss: 1.1583 - accuracy: 0.6902 - val_loss: 1.0333 - val_accuracy: 0.7208\n",
      "Epoch 16/20\n",
      "9465/9469 [============================>.] - ETA: 0s - loss: 1.1557 - accuracy: 0.6892\n",
      "Epoch 00016: val_accuracy did not improve from 0.72083\n",
      "9469/9469 [==============================] - 132s 14ms/step - loss: 1.1557 - accuracy: 0.6891 - val_loss: 1.0332 - val_accuracy: 0.7207\n",
      "Epoch 17/20\n",
      "9465/9469 [============================>.] - ETA: 0s - loss: 1.1609 - accuracy: 0.6910\n",
      "Epoch 00017: val_accuracy improved from 0.72083 to 0.72115, saving model to training_3/cp.ckpt\n",
      "9469/9469 [==============================] - 134s 14ms/step - loss: 1.1610 - accuracy: 0.6910 - val_loss: 1.0331 - val_accuracy: 0.7211\n",
      "Epoch 18/20\n",
      "9464/9469 [============================>.] - ETA: 0s - loss: 1.1613 - accuracy: 0.6891\n",
      "Epoch 00018: val_accuracy did not improve from 0.72115\n",
      "\n",
      "Epoch 00018: ReduceLROnPlateau reducing learning rate to 1.0000001111620805e-07.\n",
      "9469/9469 [==============================] - 133s 14ms/step - loss: 1.1613 - accuracy: 0.6891 - val_loss: 1.0330 - val_accuracy: 0.7207\n",
      "Epoch 19/20\n",
      "9469/9469 [==============================] - ETA: 0s - loss: 1.1569 - accuracy: 0.6909\n",
      "Epoch 00019: val_accuracy did not improve from 0.72115\n",
      "9469/9469 [==============================] - 132s 14ms/step - loss: 1.1569 - accuracy: 0.6909 - val_loss: 1.0330 - val_accuracy: 0.7207\n",
      "Epoch 20/20\n",
      "9466/9469 [============================>.] - ETA: 0s - loss: 1.1636 - accuracy: 0.6899\n",
      "Epoch 00020: val_accuracy did not improve from 0.72115\n",
      "9469/9469 [==============================] - 131s 14ms/step - loss: 1.1636 - accuracy: 0.6899 - val_loss: 1.0330 - val_accuracy: 0.7207\n"
     ]
    }
   ],
   "source": [
    "reduce_lr =tf.keras.callbacks.ReduceLROnPlateau(\n",
    "    monitor='val_accuracy', factor=0.1, patience=4, verbose=1, mode='auto',min_delta=0.05)\n",
    "\n",
    "\n",
    "checkpoint_path = \"training_3/cp.ckpt\"\n",
    "checkpoint_dir = os.path.dirname(checkpoint_path)\n",
    "\n",
    "model_checkpoint_callback = tf.keras.callbacks.ModelCheckpoint(\n",
    "    filepath=checkpoint_path,\n",
    "    save_weights_only=True,\n",
    "    monitor='val_accuracy',\n",
    "    mode='max',\n",
    "    save_best_only=True,verbose=1)\n",
    "\n",
    "history = model.fit(train,epochs=model_epochs,validation_data=val,callbacks=[model_checkpoint_callback,reduce_lr])"
   ]
  },
  {
   "cell_type": "code",
   "execution_count": 11,
   "metadata": {},
   "outputs": [],
   "source": [
    "import matplotlib.pyplot as plt"
   ]
  },
  {
   "cell_type": "code",
   "execution_count": 12,
   "metadata": {},
   "outputs": [
    {
     "data": {
      "image/png": "[encoded data removed]",
      "text/plain": [
       "<Figure size 432x288 with 1 Axes>"
      ]
     },
     "metadata": {
      "needs_background": "light"
     },
     "output_type": "display_data"
    }
   ],
   "source": [
    "train_loss = history.history[\"loss\"]\n",
    "val_loss = history.history[\"val_loss\"]\n",
    "\n",
    "epochs = np.arange(1,21,1)\n",
    "\n",
    "plt.plot(epochs,train_loss)\n",
    "plt.plot(epochs,val_loss)\n",
    "plt.xticks(epochs);\n",
    "plt.grid()"
   ]
  },
  {
   "cell_type": "code",
   "execution_count": 13,
   "metadata": {},
   "outputs": [
    {
     "data": {
      "image/png": "[encoded data removed]",
      "text/plain": [
       "<Figure size 432x288 with 1 Axes>"
      ]
     },
     "metadata": {
      "needs_background": "light"
     },
     "output_type": "display_data"
    }
   ],
   "source": [
    "train_loss = history.history[\"accuracy\"]\n",
    "val_loss = history.history[\"val_accuracy\"]\n",
    "\n",
    "epochs = np.arange(1,21,1)\n",
    "\n",
    "plt.plot(epochs,train_loss)\n",
    "plt.plot(epochs,val_loss)\n",
    "plt.xticks(epochs);\n",
    "plt.grid()"
   ]
  },
  {
   "cell_type": "markdown",
   "metadata": {},
   "source": [
    "### FINE TUNING"
   ]
  },
  {
   "cell_type": "code",
   "execution_count": 14,
   "metadata": {},
   "outputs": [],
   "source": [
    "# Unfreeze the base model\n",
    "model_backbone.trainable = True\n",
    "\n",
    "# It's important to recompile your model after you make any changes\n",
    "# to the `trainable` attribute of any inner layer, so that your changes\n",
    "# are take into account\n",
    "model.compile(optimizer=tf.keras.optimizers.Nadam(lr=1e-5),\n",
    "              loss=tf.keras.losses.SparseCategoricalCrossentropy(from_logits=False),\n",
    "              metrics=['accuracy'])"
   ]
  },
  {
   "cell_type": "code",
   "execution_count": 15,
   "metadata": {},
   "outputs": [
    {
     "name": "stdout",
     "output_type": "stream",
     "text": [
      "Epoch 1/10\n",
      "9469/9469 [==============================] - ETA: 0s - loss: 1.0467 - accuracy: 0.7204\n",
      "Epoch 00001: val_accuracy improved from -inf to 0.76202, saving model to training_3/cp.ckpt\n",
      "9469/9469 [==============================] - 430s 45ms/step - loss: 1.0467 - accuracy: 0.7204 - val_loss: 0.8617 - val_accuracy: 0.7620\n",
      "Epoch 2/10\n",
      "9468/9469 [============================>.] - ETA: 0s - loss: 0.9151 - accuracy: 0.7507\n",
      "Epoch 00002: val_accuracy improved from 0.76202 to 0.77600, saving model to training_3/cp.ckpt\n",
      "9469/9469 [==============================] - 431s 46ms/step - loss: 0.9151 - accuracy: 0.7507 - val_loss: 0.8072 - val_accuracy: 0.7760\n",
      "Epoch 3/10\n",
      "9468/9469 [============================>.] - ETA: 0s - loss: 0.8274 - accuracy: 0.7739\n",
      "Epoch 00003: val_accuracy improved from 0.77600 to 0.78257, saving model to training_3/cp.ckpt\n",
      "9469/9469 [==============================] - 433s 46ms/step - loss: 0.8274 - accuracy: 0.7739 - val_loss: 0.7804 - val_accuracy: 0.7826\n",
      "Epoch 4/10\n",
      "9469/9469 [==============================] - ETA: 0s - loss: 0.7602 - accuracy: 0.7906\n",
      "Epoch 00004: val_accuracy improved from 0.78257 to 0.78594, saving model to training_3/cp.ckpt\n",
      "9469/9469 [==============================] - 431s 46ms/step - loss: 0.7602 - accuracy: 0.7906 - val_loss: 0.7643 - val_accuracy: 0.7859\n",
      "Epoch 5/10\n",
      "9468/9469 [============================>.] - ETA: 0s - loss: 0.6958 - accuracy: 0.8064\n",
      "Epoch 00005: val_accuracy improved from 0.78594 to 0.79450, saving model to training_3/cp.ckpt\n",
      "9469/9469 [==============================] - 437s 46ms/step - loss: 0.6958 - accuracy: 0.8064 - val_loss: 0.7440 - val_accuracy: 0.7945\n",
      "Epoch 6/10\n",
      "9469/9469 [==============================] - ETA: 0s - loss: 0.6442 - accuracy: 0.8189\n",
      "Epoch 00006: val_accuracy improved from 0.79450 to 0.79766, saving model to training_3/cp.ckpt\n",
      "9469/9469 [==============================] - 442s 47ms/step - loss: 0.6442 - accuracy: 0.8189 - val_loss: 0.7338 - val_accuracy: 0.7977\n",
      "Epoch 7/10\n",
      "9469/9469 [==============================] - ETA: 0s - loss: 0.5918 - accuracy: 0.8334\n",
      "Epoch 00007: val_accuracy improved from 0.79766 to 0.79972, saving model to training_3/cp.ckpt\n",
      "9469/9469 [==============================] - 440s 46ms/step - loss: 0.5918 - accuracy: 0.8334 - val_loss: 0.7266 - val_accuracy: 0.7997\n",
      "Epoch 8/10\n",
      "9468/9469 [============================>.] - ETA: 0s - loss: 0.5494 - accuracy: 0.8431\n",
      "Epoch 00008: val_accuracy improved from 0.79972 to 0.80222, saving model to training_3/cp.ckpt\n",
      "9469/9469 [==============================] - 439s 46ms/step - loss: 0.5494 - accuracy: 0.8431 - val_loss: 0.7227 - val_accuracy: 0.8022\n",
      "Epoch 9/10\n",
      "9469/9469 [==============================] - ETA: 0s - loss: 0.5058 - accuracy: 0.8547\n",
      "Epoch 00009: val_accuracy did not improve from 0.80222\n",
      "9469/9469 [==============================] - 433s 46ms/step - loss: 0.5058 - accuracy: 0.8547 - val_loss: 0.7275 - val_accuracy: 0.8022\n",
      "Epoch 10/10\n",
      "9468/9469 [============================>.] - ETA: 0s - loss: 0.4664 - accuracy: 0.8657\n",
      "Epoch 00010: val_accuracy improved from 0.80222 to 0.80432, saving model to training_3/cp.ckpt\n",
      "9469/9469 [==============================] - 441s 47ms/step - loss: 0.4664 - accuracy: 0.8657 - val_loss: 0.7218 - val_accuracy: 0.8043\n"
     ]
    }
   ],
   "source": [
    "checkpoint_path = \"training_3/cp.ckpt\"\n",
    "checkpoint_dir = os.path.dirname(checkpoint_path)\n",
    "\n",
    "model_checkpoint_callback = tf.keras.callbacks.ModelCheckpoint(\n",
    "    filepath=checkpoint_path,\n",
    "    save_weights_only=True,\n",
    "    monitor='val_accuracy',\n",
    "    mode='max',\n",
    "    save_best_only=True,verbose=1)\n",
    "\n",
    "history = model.fit(train,epochs=10,validation_data=val,callbacks=[model_checkpoint_callback])"
   ]
  },
  {
   "cell_type": "markdown",
   "metadata": {},
   "source": [
    "## Save best model to .pb file"
   ]
  },
  {
   "cell_type": "code",
   "execution_count": 16,
   "metadata": {},
   "outputs": [
    {
     "name": "stdout",
     "output_type": "stream",
     "text": [
      "WARNING:tensorflow:From /usr/local/lib/python3.6/dist-packages/tensorflow/python/training/tracking/tracking.py:111: Model.state_updates (from tensorflow.python.keras.engine.training) is deprecated and will be removed in a future version.\n",
      "Instructions for updating:\n",
      "This property should not be used in TensorFlow 2.0, as updates are applied automatically.\n"
     ]
    },
    {
     "name": "stderr",
     "output_type": "stream",
     "text": [
      "WARNING:tensorflow:From /usr/local/lib/python3.6/dist-packages/tensorflow/python/training/tracking/tracking.py:111: Model.state_updates (from tensorflow.python.keras.engine.training) is deprecated and will be removed in a future version.\n",
      "Instructions for updating:\n",
      "This property should not be used in TensorFlow 2.0, as updates are applied automatically.\n"
     ]
    },
    {
     "name": "stdout",
     "output_type": "stream",
     "text": [
      "WARNING:tensorflow:From /usr/local/lib/python3.6/dist-packages/tensorflow/python/training/tracking/tracking.py:111: Layer.updates (from tensorflow.python.keras.engine.base_layer) is deprecated and will be removed in a future version.\n",
      "Instructions for updating:\n",
      "This property should not be used in TensorFlow 2.0, as updates are applied automatically.\n"
     ]
    },
    {
     "name": "stderr",
     "output_type": "stream",
     "text": [
      "WARNING:tensorflow:From /usr/local/lib/python3.6/dist-packages/tensorflow/python/training/tracking/tracking.py:111: Layer.updates (from tensorflow.python.keras.engine.base_layer) is deprecated and will be removed in a future version.\n",
      "Instructions for updating:\n",
      "This property should not be used in TensorFlow 2.0, as updates are applied automatically.\n"
     ]
    },
    {
     "name": "stdout",
     "output_type": "stream",
     "text": [
      "INFO:tensorflow:Assets written to: saved_model/my_model/assets\n"
     ]
    },
    {
     "name": "stderr",
     "output_type": "stream",
     "text": [
      "INFO:tensorflow:Assets written to: saved_model/my_model/assets\n"
     ]
    }
   ],
   "source": [
    "model.load_weights(checkpoint_path)\n",
    "model.save('saved_model/my_model') "
   ]
  },
  {
   "cell_type": "code",
   "execution_count": null,
   "metadata": {},
   "outputs": [],
   "source": []
  }
 ],
 "metadata": {
  "kernelspec": {
   "display_name": "Python 3",
   "language": "python",
   "name": "python3"
  },
  "language_info": {
   "codemirror_mode": {
    "name": "ipython",
    "version": 3
   },
   "file_extension": ".py",
   "mimetype": "text/x-python",
   "name": "python",
   "nbconvert_exporter": "python",
   "pygments_lexer": "ipython3",
   "version": "3.6.9"
  }
 },
 "nbformat": 4,
 "nbformat_minor": 2
}
